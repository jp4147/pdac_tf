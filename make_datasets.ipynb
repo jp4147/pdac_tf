{
 "cells": [
  {
   "cell_type": "markdown",
   "metadata": {},
   "source": [
    "# Case"
   ]
  },
  {
   "cell_type": "code",
   "execution_count": null,
   "metadata": {},
   "outputs": [],
   "source": [
    "#case_pdac: case person ids with pdac concepts \n",
    "# SELECT co.person_id, co.condition_concept_id, co.condition_start_datetime\n",
    "# FROM clinical_merge_v5_2022q1.condition_occurrence co\n",
    "# WHERE co.condition_concept_id IN (\n",
    "#     SELECT ca.descendant_concept_id\n",
    "#     FROM clinical_merge_v5_2022q1.concept c\n",
    "#     JOIN clinical_merge_v5_2022q1.concept_ancestor ca\n",
    "#     ON ca.ancestor_concept_id = c.concept_id\n",
    "#     WHERE c.concept_id IN (44830971, 1567481, 4180793))\n",
    "\n",
    "#case: case all conditions\n",
    "# SELECT co.person_id, co.condition_concept_id, co.condition_start_datetime\n",
    "# FROM clinical_merge_v5_2022q1.condition_occurrence co\n",
    "# WHERE co.person_id IN (\n",
    "#     SELECT DISTINCT co.person_id\n",
    "#     FROM clinical_merge_v5_2022q1.condition_occurrence co\n",
    "#     JOIN clinical_merge_v5_2022q1.concept_ancestor ca\n",
    "#     ON ca.descendant_concept_id = co.condition_concept_id\n",
    "#     WHERE ca.ancestor_concept_id IN (44830971, 1567481, 4180793))\n",
    "\n",
    "# case demog\n",
    "# SELECT p.person_id, p.gender_concept_id,p.ethnicity_concept_id, p.race_concept_id, p.year_of_birth, p.month_of_birth, p.day_of_birth\n",
    "# FROM clinical_merge_v5_2022q1.person p\n",
    "# WHERE p.person_id IN (\n",
    "#     SELECT DISTINCT co.person_id\n",
    "#     FROM clinical_merge_v5_2022q1.condition_occurrence co\n",
    "#     JOIN clinical_merge_v5_2022q1.concept_ancestor ca\n",
    "#     ON ca.descendant_concept_id = co.condition_concept_id\n",
    "#     WHERE ca.ancestor_concept_id IN (44830971, 1567481, 4180793))"
   ]
  },
  {
   "cell_type": "code",
   "execution_count": 5,
   "metadata": {},
   "outputs": [],
   "source": [
    "import pandas as pd\n",
    "case = pd.read_csv('E:/2023 EHR data/case_condition04082024.csv')"
   ]
  },
  {
   "cell_type": "code",
   "execution_count": 6,
   "metadata": {},
   "outputs": [],
   "source": [
    "case_pdac = pd.read_csv('E:/2023 EHR data/case_pdac_condition04082024.csv')"
   ]
  },
  {
   "cell_type": "code",
   "execution_count": 7,
   "metadata": {},
   "outputs": [
    {
     "name": "stdout",
     "output_type": "stream",
     "text": [
      "12612\n",
      "8796\n"
     ]
    }
   ],
   "source": [
    "print(len(case['person_id'].unique()))\n",
    "print(len(case['condition_concept_id'].unique()))"
   ]
  },
  {
   "cell_type": "markdown",
   "metadata": {},
   "source": [
    "### Remove concept id 0 - unknown"
   ]
  },
  {
   "cell_type": "code",
   "execution_count": 9,
   "metadata": {},
   "outputs": [
    {
     "data": {
      "text/plain": [
       "2995875"
      ]
     },
     "execution_count": 9,
     "metadata": {},
     "output_type": "execute_result"
    }
   ],
   "source": [
    "len(case)"
   ]
  },
  {
   "cell_type": "code",
   "execution_count": 10,
   "metadata": {},
   "outputs": [
    {
     "data": {
      "text/plain": [
       "2981227"
      ]
     },
     "execution_count": 10,
     "metadata": {},
     "output_type": "execute_result"
    }
   ],
   "source": [
    "case = case[case['condition_concept_id']!=0]\n",
    "len(case)"
   ]
  },
  {
   "cell_type": "code",
   "execution_count": 11,
   "metadata": {},
   "outputs": [
    {
     "name": "stdout",
     "output_type": "stream",
     "text": [
      "12612\n"
     ]
    }
   ],
   "source": [
    "print(len(case['person_id'].unique()))"
   ]
  },
  {
   "cell_type": "markdown",
   "metadata": {},
   "source": [
    "### pancreatic cancer first diagnosis date"
   ]
  },
  {
   "cell_type": "code",
   "execution_count": 12,
   "metadata": {},
   "outputs": [
    {
     "name": "stderr",
     "output_type": "stream",
     "text": [
      "100%|██████████| 12612/12612 [00:07<00:00, 1646.36it/s]\n"
     ]
    }
   ],
   "source": [
    "from tqdm import tqdm\n",
    "pc_diag = {}\n",
    "patlst = list(case_pdac['person_id'].unique())\n",
    "case_pdac['condition_start_datetime'] = pd.to_datetime(case_pdac['condition_start_datetime'])\n",
    "grk = case_pdac.groupby('person_id')\n",
    "\n",
    "for p in tqdm(patlst):\n",
    "    dat = grk.get_group(p)\n",
    "    dat = dat.sort_values(by='condition_start_datetime')\n",
    "    pc_diag[p] = list(dat['condition_start_datetime'])[0]"
   ]
  },
  {
   "cell_type": "code",
   "execution_count": null,
   "metadata": {},
   "outputs": [],
   "source": [
    "import pickle\n",
    "with open('datasets/pc_diag.pickle', 'wb') as handle:\n",
    "    pickle.dump(pc_diag, handle)"
   ]
  },
  {
   "cell_type": "markdown",
   "metadata": {},
   "source": [
    "### patients with minumum 5 data points before PC diagnosis"
   ]
  },
  {
   "cell_type": "code",
   "execution_count": 13,
   "metadata": {},
   "outputs": [
    {
     "name": "stderr",
     "output_type": "stream",
     "text": [
      "C:\\Users\\jp4147\\AppData\\Local\\Temp\\ipykernel_49128\\460566437.py:2: SettingWithCopyWarning: \n",
      "A value is trying to be set on a copy of a slice from a DataFrame.\n",
      "Try using .loc[row_indexer,col_indexer] = value instead\n",
      "\n",
      "See the caveats in the documentation: https://pandas.pydata.org/pandas-docs/stable/user_guide/indexing.html#returning-a-view-versus-a-copy\n",
      "  case['condition_start_datetime'] = pd.to_datetime(case['condition_start_datetime'], errors = 'coerce')\n",
      "100%|██████████| 12612/12612 [00:18<00:00, 678.00it/s]\n"
     ]
    }
   ],
   "source": [
    "grk = case.groupby('person_id')\n",
    "case['condition_start_datetime'] = pd.to_datetime(case['condition_start_datetime'], errors = 'coerce')\n",
    "\n",
    "pre = []\n",
    "for p in tqdm(patlst):\n",
    "    dat = grk.get_group(p)\n",
    "    dat = dat[~dat.duplicated()]\n",
    "    dat = dat[dat['condition_start_datetime']<pc_diag[p]]\n",
    "    if len(dat)>=5:\n",
    "        pre.append(dat)"
   ]
  },
  {
   "cell_type": "code",
   "execution_count": 14,
   "metadata": {},
   "outputs": [
    {
     "data": {
      "text/plain": [
       "6990"
      ]
     },
     "execution_count": 14,
     "metadata": {},
     "output_type": "execute_result"
    }
   ],
   "source": [
    "pre = pd.concat(pre)\n",
    "len(pre['person_id'].unique())"
   ]
  },
  {
   "cell_type": "markdown",
   "metadata": {},
   "source": [
    "### case demographics"
   ]
  },
  {
   "cell_type": "code",
   "execution_count": 15,
   "metadata": {},
   "outputs": [],
   "source": [
    "case_demog = pd.read_csv('E:/2023 EHR data/case_demog04082024.csv')"
   ]
  },
  {
   "cell_type": "code",
   "execution_count": 16,
   "metadata": {},
   "outputs": [
    {
     "name": "stderr",
     "output_type": "stream",
     "text": [
      "C:\\Users\\jp4147\\AppData\\Local\\Temp\\ipykernel_49128\\3372526552.py:1: DtypeWarning: Columns (5,6,9) have mixed types. Specify dtype option on import or set low_memory=False.\n",
      "  concept = pd.read_csv('E:/2023 EHR data/concept.csv')\n"
     ]
    }
   ],
   "source": [
    "concept = pd.read_csv('E:/2023 EHR data/concept.csv')\n",
    "concept = concept[['concept_id', 'concept_name']]\n",
    "concept_dict = dict(zip(concept['concept_id'], concept['concept_name']))"
   ]
  },
  {
   "cell_type": "code",
   "execution_count": 17,
   "metadata": {},
   "outputs": [],
   "source": [
    "from collections import Counter\n",
    "case_demog['race'] = case_demog['race_concept_id'].replace({k: concept_dict[k] for k in Counter(case_demog['race_concept_id'])})\n",
    "case_demog['ethnicity'] = case_demog['ethnicity_concept_id'].replace({k: concept_dict[k] for k in Counter(case_demog['ethnicity_concept_id'])})\n",
    "case_demog['gender'] = case_demog['gender_concept_id'].replace({k: concept_dict[k] for k in Counter(case_demog['gender_concept_id'])})"
   ]
  },
  {
   "cell_type": "code",
   "execution_count": 18,
   "metadata": {},
   "outputs": [],
   "source": [
    "case_demog['gender'] = case_demog['gender'].replace(['I prefer not to answer', 'PMI: Skip','None of these', 'No matching concept'], 'Unknown')\n",
    "case_demog['race'] = case_demog['race'].replace(['None Indicated', 'PMI: Skip','None of these', 'More than one population','I prefer not to answer','No matching concept'], 'Unknown')\n",
    "case_demog['ethnicity'] = case_demog['ethnicity'].replace(['PMI: Skip', 'PMI: Prefer Not To Answer', 'What Race Ethnicity: Race Ethnicity None Of These','No matching concept'], 'Unknown')"
   ]
  },
  {
   "cell_type": "code",
   "execution_count": 19,
   "metadata": {},
   "outputs": [
    {
     "name": "stdout",
     "output_type": "stream",
     "text": [
      "Counter({'FEMALE': 6387, 'MALE': 6222, 'Unknown': 3})\n",
      "Counter({'Unknown': 6150, 'White': 5260, 'Black or African American': 846, 'Asian': 271, 'Other Race': 60, 'American Indian or Alaska Native': 14, 'Native Hawaiian or Other Pacific Islander': 10, 'Asian Indian': 1})\n",
      "Counter({'Unknown': 7050, 'Not Hispanic or Latino': 4395, 'Hispanic or Latino': 1167})\n"
     ]
    }
   ],
   "source": [
    "print(Counter(case_demog['gender']))\n",
    "print(Counter(case_demog['race']))\n",
    "print(Counter(case_demog['ethnicity']))"
   ]
  },
  {
   "cell_type": "code",
   "execution_count": 20,
   "metadata": {},
   "outputs": [],
   "source": [
    "case_demog['date_of_birth'] = case_demog.apply(lambda row: pd.Timestamp(year=row['year_of_birth'],\n",
    "                                                                         month=row['month_of_birth'],\n",
    "                                                                         day=row['day_of_birth']), axis=1)"
   ]
  },
  {
   "cell_type": "code",
   "execution_count": 21,
   "metadata": {},
   "outputs": [],
   "source": [
    "sex_dict = dict(zip(case_demog['person_id'], case_demog['gender']))\n",
    "race_dict = dict(zip(case_demog['person_id'], case_demog['race']))\n",
    "eth_dict = dict(zip(case_demog['person_id'], case_demog['ethnicity']))\n",
    "bd_dict = dict(zip(case_demog['person_id'], case_demog['date_of_birth']))"
   ]
  },
  {
   "cell_type": "code",
   "execution_count": 22,
   "metadata": {},
   "outputs": [
    {
     "name": "stderr",
     "output_type": "stream",
     "text": [
      "100%|██████████| 781734/781734 [01:06<00:00, 11695.88it/s]\n"
     ]
    }
   ],
   "source": [
    "age = []\n",
    "for i, row in tqdm(pre.iterrows(), total = pre.shape[0]):\n",
    "    age.append((row['condition_start_datetime'] - bd_dict[row['person_id']]) / pd.Timedelta(days=365.25))"
   ]
  },
  {
   "cell_type": "code",
   "execution_count": 23,
   "metadata": {},
   "outputs": [],
   "source": [
    "pre['age'] = age"
   ]
  },
  {
   "cell_type": "code",
   "execution_count": 24,
   "metadata": {},
   "outputs": [
    {
     "data": {
      "text/plain": [
       "False"
      ]
     },
     "execution_count": 24,
     "metadata": {},
     "output_type": "execute_result"
    }
   ],
   "source": [
    "pre['age'].isna().any()"
   ]
  },
  {
   "cell_type": "markdown",
   "metadata": {},
   "source": [
    "### remove patients with other cancers before PC diagnosis"
   ]
  },
  {
   "cell_type": "code",
   "execution_count": 25,
   "metadata": {},
   "outputs": [],
   "source": [
    "other_cancer_pat = pre[['person_id', 'condition_concept_id']]\n",
    "other_cancer_pat.columns = ['person_id', 'concept_id']\n",
    "other_cancer_pat = other_cancer_pat.merge(concept, on = 'concept_id', how = 'inner')"
   ]
  },
  {
   "cell_type": "code",
   "execution_count": 26,
   "metadata": {},
   "outputs": [],
   "source": [
    "other_cancer_patlst = []\n",
    "for i, row in other_cancer_pat.iterrows():\n",
    "    n = row['concept_name'].lower()\n",
    "    if 'malig' in n or 'adenocarcinoma' in n:\n",
    "        other_cancer_patlst.append(row['person_id'])"
   ]
  },
  {
   "cell_type": "code",
   "execution_count": 27,
   "metadata": {},
   "outputs": [],
   "source": [
    "other_cancer_patlst = list(set(other_cancer_patlst))"
   ]
  },
  {
   "cell_type": "code",
   "execution_count": 28,
   "metadata": {},
   "outputs": [
    {
     "data": {
      "text/plain": [
       "3474"
      ]
     },
     "execution_count": 28,
     "metadata": {},
     "output_type": "execute_result"
    }
   ],
   "source": [
    "len(other_cancer_patlst)"
   ]
  },
  {
   "cell_type": "code",
   "execution_count": 29,
   "metadata": {},
   "outputs": [],
   "source": [
    "pre_nocancer = pre[~pre['person_id'].isin(other_cancer_patlst)]"
   ]
  },
  {
   "cell_type": "code",
   "execution_count": 30,
   "metadata": {},
   "outputs": [
    {
     "data": {
      "text/plain": [
       "3516"
      ]
     },
     "execution_count": 30,
     "metadata": {},
     "output_type": "execute_result"
    }
   ],
   "source": [
    "len(pre_nocancer['person_id'].unique())"
   ]
  },
  {
   "cell_type": "markdown",
   "metadata": {},
   "source": [
    "### patient data into dictionary"
   ]
  },
  {
   "cell_type": "code",
   "execution_count": 31,
   "metadata": {},
   "outputs": [
    {
     "name": "stderr",
     "output_type": "stream",
     "text": [
      "  0%|          | 0/3516 [00:00<?, ?it/s]"
     ]
    },
    {
     "name": "stderr",
     "output_type": "stream",
     "text": [
      "100%|██████████| 3516/3516 [00:03<00:00, 1063.52it/s]\n"
     ]
    }
   ],
   "source": [
    "grk = pre_nocancer.groupby('person_id')\n",
    "patlst = list(pre_nocancer['person_id'].unique())\n",
    "\n",
    "pat_dat = {}\n",
    "la = []\n",
    "ctrl = []\n",
    "for p in tqdm(patlst):\n",
    "    dat = grk.get_group(p)\n",
    "    if len(dat)>=5:\n",
    "        dat = dat.sort_values(by = 'age')\n",
    "        last_diag = list(dat['condition_start_datetime'])[-1]\n",
    "        month_before = (pc_diag[p]-last_diag).days/ 30.44\n",
    "        label = []\n",
    "        if month_before<3:\n",
    "            la.append('3m')\n",
    "            label = [1,1,1,1,1]\n",
    "        elif month_before<6:\n",
    "            la.append('6m')\n",
    "            label = [0,1,1,1,1]\n",
    "        elif month_before<12:\n",
    "            la.append('12m')\n",
    "            label = [0,0,1,1,1]\n",
    "        elif month_before<36:\n",
    "            la.append('12m')\n",
    "            label = [0,0,0,1,1]\n",
    "        elif month_before<60:\n",
    "            la.append('60m')\n",
    "            label = [0,0,0,0,1]\n",
    "        else:\n",
    "            ctrl.append(p)\n",
    "        \n",
    "        if len(label)>0:\n",
    "            pat_dat[p] = {}\n",
    "            pat_dat[p]['concept_dx'] = list(dat['condition_concept_id'])\n",
    "            pat_dat[p]['timestamps'] = list(dat['condition_start_datetime'])\n",
    "            pat_dat[p]['age'] = list(dat['age'])\n",
    "            pat_dat[p]['race'] = race_dict[p]\n",
    "            pat_dat[p]['ethnicity'] = eth_dict[p]\n",
    "            pat_dat[p]['gender'] = sex_dict[p]\n",
    "            pat_dat[p]['age_at_diagnosis'] = pc_diag[p]\n",
    "            pat_dat[p]['birth_date'] = bd_dict[p]\n",
    "            pat_dat[p]['label'] = label"
   ]
  },
  {
   "cell_type": "code",
   "execution_count": 32,
   "metadata": {},
   "outputs": [
    {
     "data": {
      "text/plain": [
       "3387"
      ]
     },
     "execution_count": 32,
     "metadata": {},
     "output_type": "execute_result"
    }
   ],
   "source": [
    "len(pat_dat)"
   ]
  },
  {
   "cell_type": "code",
   "execution_count": 33,
   "metadata": {},
   "outputs": [],
   "source": [
    "la_lst = []\n",
    "for p, info in pat_dat.items():\n",
    "    la_lst.append(sum(info['label']))"
   ]
  },
  {
   "cell_type": "code",
   "execution_count": 34,
   "metadata": {},
   "outputs": [
    {
     "data": {
      "text/plain": [
       "Counter({5: 2908, 2: 175, 3: 119, 4: 115, 1: 70})"
      ]
     },
     "execution_count": 34,
     "metadata": {},
     "output_type": "execute_result"
    }
   ],
   "source": [
    "Counter(la_lst)"
   ]
  },
  {
   "cell_type": "code",
   "execution_count": 35,
   "metadata": {},
   "outputs": [],
   "source": [
    "import pickle\n",
    "with open('datasets/case.pickle', 'wb') as handle:\n",
    "    pickle.dump(pat_dat, handle)"
   ]
  },
  {
   "cell_type": "markdown",
   "metadata": {},
   "source": [
    "# Control"
   ]
  },
  {
   "cell_type": "code",
   "execution_count": 36,
   "metadata": {},
   "outputs": [],
   "source": [
    "# control conditions\n",
    "# SELECT co.person_id, co.condition_concept_id, co.condition_start_datetime\n",
    "# FROM clinical_merge_v5_2022q1.condition_occurrence co\n",
    "# WHERE co.person_id NOT IN (\n",
    "#     SELECT DISTINCT c.person_id\n",
    "#     FROM clinical_merge_v5_2022q1.condition_occurrence c\n",
    "#     WHERE c.condition_concept_id IN (\n",
    "#         SELECT concept.concept_id\n",
    "#         FROM clinical_merge_v5_2022q1.concept\n",
    "#         WHERE concept.concept_name LIKE '%malig%'\n",
    "#         OR concept.concept_name LIKE '%adenocarcinoma%'\n",
    "#     )\n",
    "# )\n",
    "\n",
    "# control demog\n",
    "# SELECT p.person_id, p.year_of_birth, p.month_of_birth, p.day_of_birth, p.race_concept_id, p.ethnicity_concept_id, p.gender_concept_id\n",
    "# FROM clinical_merge_v5_2022q1.person p\n",
    "# WHERE p.person_id NOT IN (\n",
    "#     SELECT DISTINCT c.person_id\n",
    "#     FROM clinical_merge_v5_2022q1.condition_occurrence c\n",
    "#     WHERE c.condition_concept_id IN (\n",
    "#         SELECT concept.concept_id\n",
    "#         FROM clinical_merge_v5_2022q1.concept\n",
    "#         WHERE concept.concept_name LIKE '%malig%'\n",
    "#         OR concept.concept_name LIKE '%adenocarcinoma%'\n",
    "#     )\n",
    "# )"
   ]
  },
  {
   "cell_type": "code",
   "execution_count": 37,
   "metadata": {},
   "outputs": [],
   "source": [
    "control = pd.read_csv('E:/2023 EHR data/control_condition04082024.csv')"
   ]
  },
  {
   "cell_type": "markdown",
   "metadata": {},
   "source": [
    "### Remove concept id 0 - unknown"
   ]
  },
  {
   "cell_type": "code",
   "execution_count": 43,
   "metadata": {},
   "outputs": [
    {
     "data": {
      "text/plain": [
       "134234023"
      ]
     },
     "execution_count": 43,
     "metadata": {},
     "output_type": "execute_result"
    }
   ],
   "source": [
    "len(control)"
   ]
  },
  {
   "cell_type": "code",
   "execution_count": 44,
   "metadata": {},
   "outputs": [
    {
     "data": {
      "text/plain": [
       "133019266"
      ]
     },
     "execution_count": 44,
     "metadata": {},
     "output_type": "execute_result"
    }
   ],
   "source": [
    "control = control[control['condition_concept_id']!=0]\n",
    "len(control)"
   ]
  },
  {
   "cell_type": "markdown",
   "metadata": {},
   "source": [
    "### Control demographics"
   ]
  },
  {
   "cell_type": "code",
   "execution_count": 38,
   "metadata": {},
   "outputs": [],
   "source": [
    "demog = pd.read_csv('E:/2023 EHR data/control_demog04082024.csv')"
   ]
  },
  {
   "cell_type": "code",
   "execution_count": null,
   "metadata": {},
   "outputs": [
    {
     "name": "stderr",
     "output_type": "stream",
     "text": [
      "C:\\Users\\jp4147\\AppData\\Local\\Temp\\ipykernel_10728\\3372526552.py:1: DtypeWarning: Columns (5,6,9) have mixed types. Specify dtype option on import or set low_memory=False.\n",
      "  concept = pd.read_csv('E:/2023 EHR data/concept.csv')\n"
     ]
    }
   ],
   "source": [
    "concept = pd.read_csv('E:/2023 EHR data/concept.csv')\n",
    "concept = concept[['concept_id', 'concept_name']]\n",
    "concept_dict = dict(zip(concept['concept_id'], concept['concept_name']))"
   ]
  },
  {
   "cell_type": "code",
   "execution_count": 39,
   "metadata": {},
   "outputs": [
    {
     "name": "stdout",
     "output_type": "stream",
     "text": [
      "Counter({'FEMALE': 3581329, 'MALE': 2807802, 'Unknown': 17176})\n",
      "Counter({'Unknown': 4848120, 'White': 988520, 'Black or African American': 372778, 'Other Race': 104061, 'Asian': 78276, 'American Indian or Alaska Native': 7259, 'Native Hawaiian or Other Pacific Islander': 7005, 38003613: 198, 'Asian Indian': 29, 38003584: 18, 38003579: 17, 38003585: 9, 38003581: 9, 44814649: 3, 38003610: 1, 38003595: 1, 38003583: 1, 38003586: 1, 38003591: 1})\n",
      "Counter({'Unknown': 4928128, 'Not Hispanic or Latino': 953890, 'Hispanic or Latino': 524289})\n"
     ]
    }
   ],
   "source": [
    "from collections import Counter\n",
    "demog['race'] = demog['race_concept_id'].replace({k: concept_dict[k] for k in Counter(case_demog['race_concept_id'])})\n",
    "demog['ethnicity'] = demog['ethnicity_concept_id'].replace({k: concept_dict[k] for k in Counter(case_demog['ethnicity_concept_id'])})\n",
    "demog['gender'] = demog['gender_concept_id'].replace({k: concept_dict[k] for k in Counter(case_demog['gender_concept_id'])})\n",
    "\n",
    "demog['gender'] = demog['gender'].replace(['I prefer not to answer', 'PMI: Skip','None of these', 'No matching concept'], 'Unknown')\n",
    "demog['race'] = demog['race'].replace(['None Indicated', 'PMI: Skip','None of these', 'More than one population','I prefer not to answer','No matching concept'], 'Unknown')\n",
    "demog['ethnicity'] = demog['ethnicity'].replace(['PMI: Skip', 'PMI: Prefer Not To Answer', 'What Race Ethnicity: Race Ethnicity None Of These','No matching concept'], 'Unknown')\n",
    "\n",
    "print(Counter(demog['gender']))\n",
    "print(Counter(demog['race']))\n",
    "print(Counter(demog['ethnicity']))"
   ]
  },
  {
   "cell_type": "code",
   "execution_count": 40,
   "metadata": {},
   "outputs": [],
   "source": [
    "demog['race'] = demog['race'].replace([38003613,44814649,38003579,38003610,38003584,38003585,38003581,38003595,38003583,38003586,38003591], 'Unknown')\n",
    "demog['race'] = demog['race'].replace(['Asian Indian'], 'Asian')"
   ]
  },
  {
   "cell_type": "code",
   "execution_count": 41,
   "metadata": {},
   "outputs": [
    {
     "data": {
      "text/plain": [
       "Counter({'Unknown': 4848379,\n",
       "         'White': 988520,\n",
       "         'Black or African American': 372778,\n",
       "         'Other Race': 104061,\n",
       "         'Asian': 78305,\n",
       "         'American Indian or Alaska Native': 7259,\n",
       "         'Native Hawaiian or Other Pacific Islander': 7005})"
      ]
     },
     "execution_count": 41,
     "metadata": {},
     "output_type": "execute_result"
    }
   ],
   "source": [
    "Counter(demog['race'])"
   ]
  },
  {
   "cell_type": "code",
   "execution_count": 45,
   "metadata": {},
   "outputs": [
    {
     "name": "stdout",
     "output_type": "stream",
     "text": [
      "4388035\n",
      "15572\n"
     ]
    }
   ],
   "source": [
    "print(len(control['person_id'].unique()))\n",
    "print(len(control['condition_concept_id'].unique()))"
   ]
  },
  {
   "cell_type": "code",
   "execution_count": 46,
   "metadata": {},
   "outputs": [
    {
     "name": "stdout",
     "output_type": "stream",
     "text": [
      "6406307\n",
      "4388035\n"
     ]
    }
   ],
   "source": [
    "print(len(demog['person_id'].unique()))\n",
    "print(len(control['person_id'].unique()))"
   ]
  },
  {
   "cell_type": "code",
   "execution_count": 47,
   "metadata": {},
   "outputs": [],
   "source": [
    "demog['date_of_birth'] = demog.apply(lambda row: pd.Timestamp(year=row['year_of_birth'], month=row['month_of_birth'],day=row['day_of_birth']), axis=1)"
   ]
  },
  {
   "cell_type": "code",
   "execution_count": 48,
   "metadata": {},
   "outputs": [],
   "source": [
    "sex_dict = dict(zip(demog['person_id'], demog['gender']))\n",
    "race_dict = dict(zip(demog['person_id'], demog['race']))\n",
    "eth_dict = dict(zip(demog['person_id'], demog['ethnicity']))\n",
    "bd_dict = dict(zip(demog['person_id'], demog['date_of_birth']))"
   ]
  },
  {
   "cell_type": "code",
   "execution_count": 49,
   "metadata": {},
   "outputs": [],
   "source": [
    "control['condition_start_datetime'] = pd.to_datetime(control['condition_start_datetime'], errors = 'coerce')"
   ]
  },
  {
   "cell_type": "markdown",
   "metadata": {},
   "source": [
    "### Cut recent 2 years of data"
   ]
  },
  {
   "cell_type": "code",
   "execution_count": 50,
   "metadata": {},
   "outputs": [],
   "source": [
    "import pandas as pd\n",
    "from tqdm import tqdm\n",
    "\n",
    "# Step 1: Sort the DataFrame by 'person_id' and 'condition_start_datetime'\n",
    "control = control.sort_values(by=['person_id', 'condition_start_datetime'])\n",
    "\n",
    "# Calculate the last diagnosis date for each person_id minus two years\n",
    "last_diag_minus_two_years = control.groupby('person_id')['condition_start_datetime'].transform('max') - pd.Timedelta(days=730)\n",
    "\n",
    "# Filter the DataFrame to only include dates before two years from the last diagnosis\n",
    "control['within_two_years'] = control['condition_start_datetime'] < last_diag_minus_two_years\n",
    "\n",
    "# Now, filter to keep only those within the two-year period\n",
    "control_filtered = control[control['within_two_years']]\n",
    "\n",
    "# Step 2: Ensure at least 5 records exist for the condition within the timeframe for each person_id\n",
    "# This involves a groupby and filter operation\n",
    "control_filtered = control_filtered.groupby('person_id').filter(lambda x: len(x) >= 5)"
   ]
  },
  {
   "cell_type": "code",
   "execution_count": 51,
   "metadata": {},
   "outputs": [],
   "source": [
    "control_filtered = control_filtered[~control_filtered.duplicated()]"
   ]
  },
  {
   "cell_type": "code",
   "execution_count": 52,
   "metadata": {},
   "outputs": [
    {
     "name": "stdout",
     "output_type": "stream",
     "text": [
      "1091311\n"
     ]
    }
   ],
   "source": [
    "print(len(control_filtered['person_id'].unique()))"
   ]
  },
  {
   "cell_type": "code",
   "execution_count": 53,
   "metadata": {},
   "outputs": [],
   "source": [
    "control_filtered['age'] = (control_filtered['condition_start_datetime'] - control_filtered['person_id'].map(bd_dict)) / pd.Timedelta(days=365.25)"
   ]
  },
  {
   "cell_type": "markdown",
   "metadata": {},
   "source": [
    "### patient data into dictionary"
   ]
  },
  {
   "cell_type": "code",
   "execution_count": 54,
   "metadata": {},
   "outputs": [],
   "source": [
    "def aggregate_group_data(name, group):\n",
    "    return {\n",
    "        'concept_dx': group['condition_concept_id'].tolist(),\n",
    "        'timestamps': group['condition_start_datetime'].tolist(),\n",
    "        'race': race_dict[name], \n",
    "        'ethnicity': eth_dict[name],  \n",
    "        'gender': sex_dict[name],  \n",
    "        'birth_date': bd_dict[name],  \n",
    "        'label': [0, 0, 0, 0, 0],\n",
    "        'age': group['age'].tolist()\n",
    "    }"
   ]
  },
  {
   "cell_type": "code",
   "execution_count": 55,
   "metadata": {},
   "outputs": [],
   "source": [
    "groups = list(control_filtered.groupby('person_id'))"
   ]
  },
  {
   "cell_type": "code",
   "execution_count": 56,
   "metadata": {},
   "outputs": [
    {
     "name": "stderr",
     "output_type": "stream",
     "text": [
      "  0%|          | 0/1091311 [00:00<?, ?it/s]"
     ]
    },
    {
     "name": "stderr",
     "output_type": "stream",
     "text": [
      "100%|██████████| 1091311/1091311 [05:07<00:00, 3546.21it/s]\n"
     ]
    }
   ],
   "source": [
    "pat_dat = {}\n",
    "for name, group in tqdm(groups, total=len(groups)):\n",
    "    aggregated_data = aggregate_group_data(name, group)\n",
    "    pat_dat[name] = aggregated_data"
   ]
  },
  {
   "cell_type": "code",
   "execution_count": 57,
   "metadata": {},
   "outputs": [
    {
     "data": {
      "text/plain": [
       "1091311"
      ]
     },
     "execution_count": 57,
     "metadata": {},
     "output_type": "execute_result"
    }
   ],
   "source": [
    "len(pat_dat)"
   ]
  },
  {
   "cell_type": "code",
   "execution_count": 58,
   "metadata": {},
   "outputs": [],
   "source": [
    "with open('datasets/control.pickle', 'wb') as handle:\n",
    "    pickle.dump(pat_dat, handle)"
   ]
  },
  {
   "cell_type": "markdown",
   "metadata": {},
   "source": [
    "# Combine case and control"
   ]
  },
  {
   "cell_type": "code",
   "execution_count": 64,
   "metadata": {},
   "outputs": [],
   "source": [
    "import pickle\n",
    "with open('datasets/case.pickle', 'rb') as handle:\n",
    "    case = pickle.load(handle)"
   ]
  },
  {
   "cell_type": "code",
   "execution_count": 65,
   "metadata": {},
   "outputs": [],
   "source": [
    "with open('datasets/control.pickle', 'rb') as handle:\n",
    "    control = pickle.load(handle)"
   ]
  },
  {
   "cell_type": "code",
   "execution_count": 66,
   "metadata": {},
   "outputs": [
    {
     "data": {
      "text/plain": [
       "1094698"
      ]
     },
     "execution_count": 66,
     "metadata": {},
     "output_type": "execute_result"
    }
   ],
   "source": [
    "pat_data = {}\n",
    "\n",
    "pat_data.update(case)\n",
    "pat_data.update(control)\n",
    "len(pat_data)"
   ]
  },
  {
   "cell_type": "code",
   "execution_count": 67,
   "metadata": {},
   "outputs": [],
   "source": [
    "with open('datasets/pat_data.pickle', 'wb') as handle:\n",
    "    pickle.dump(pat_data, handle)"
   ]
  },
  {
   "cell_type": "markdown",
   "metadata": {},
   "source": [
    "# Age exclusion"
   ]
  },
  {
   "cell_type": "code",
   "execution_count": 1,
   "metadata": {},
   "outputs": [],
   "source": [
    "import pickle\n",
    "with open('datasets/pat_data.pickle', 'rb') as handle:\n",
    "    pat_data = pickle.load(handle)"
   ]
  },
  {
   "cell_type": "code",
   "execution_count": null,
   "metadata": {},
   "outputs": [],
   "source": [
    "from tqdm import tqdm\n",
    "pids_rm = []\n",
    "for k,v in tqdm(pat_data.items()):\n",
    "    if any([number < 18 for number in v['age']]):\n",
    "        pids_rm.append(k)\n",
    "    elif any([number > 100 for number in v['age']]):\n",
    "        pids_rm.append(k)"
   ]
  },
  {
   "cell_type": "code",
   "execution_count": null,
   "metadata": {},
   "outputs": [],
   "source": [
    "pids = list(pat_data.keys())"
   ]
  },
  {
   "cell_type": "code",
   "execution_count": null,
   "metadata": {},
   "outputs": [],
   "source": [
    "pids = list(set(pids) - set(pids_rm))\n",
    "pat_data = {i:pat_data[i] for i in pids}"
   ]
  },
  {
   "cell_type": "markdown",
   "metadata": {},
   "source": [
    "# Age normalization"
   ]
  },
  {
   "cell_type": "code",
   "execution_count": null,
   "metadata": {},
   "outputs": [],
   "source": [
    "from tqdm import tqdm\n",
    "# Calculate the minimum and maximum ages\n",
    "all_ages = []\n",
    "p = []\n",
    "for k,v in tqdm(pat_data.items()):\n",
    "    all_ages.extend(v['age'])\n",
    "    if 0 in v['age']:\n",
    "        p.append(k)\n",
    "min_age = min(all_ages)\n",
    "max_age = max(all_ages)\n",
    "\n",
    "# Normalize the ages using the adjusted min-max scaling\n",
    "for k,v in tqdm(pat_data.items()):\n",
    "    v['age_norm'] = [\n",
    "        (0.1 + 0.9 * ((age - min_age) / (max_age - min_age))) for age in v['age']\n",
    "    ]"
   ]
  },
  {
   "cell_type": "code",
   "execution_count": null,
   "metadata": {},
   "outputs": [],
   "source": [
    "with open('datasets/pat_data.pickle', 'wb') as handle:\n",
    "    pickle.dump(pat_data, handle)"
   ]
  }
 ],
 "metadata": {
  "kernelspec": {
   "display_name": "py39",
   "language": "python",
   "name": "py39"
  },
  "language_info": {
   "codemirror_mode": {
    "name": "ipython",
    "version": 3
   },
   "file_extension": ".py",
   "mimetype": "text/x-python",
   "name": "python",
   "nbconvert_exporter": "python",
   "pygments_lexer": "ipython3",
   "version": "3.9.18"
  }
 },
 "nbformat": 4,
 "nbformat_minor": 2
}
