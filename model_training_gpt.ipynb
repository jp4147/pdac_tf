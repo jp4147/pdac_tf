{
 "cells": [
  {
   "cell_type": "code",
   "execution_count": 1,
   "metadata": {},
   "outputs": [],
   "source": [
    "import pickle\n",
    "with open('datasets/cedar_gpt_emb1536.pickle', 'rb') as handle:\n",
    "    concept_emb_dict = pickle.load(handle)"
   ]
  },
  {
   "cell_type": "code",
   "execution_count": 2,
   "metadata": {},
   "outputs": [
    {
     "name": "stdout",
     "output_type": "stream",
     "text": [
      "assign reindex to concepts\n",
      "data reindexing\n"
     ]
    },
    {
     "name": "stderr",
     "output_type": "stream",
     "text": [
      "100%|██████████| 788635/788635 [00:07<00:00, 108277.28it/s]\n"
     ]
    },
    {
     "name": "stdout",
     "output_type": "stream",
     "text": [
      "vocab_size: 14164\n"
     ]
    }
   ],
   "source": [
    "from load_data import DataLoader\n",
    "data_loader = DataLoader(use_graph_embeddings = False)  \n",
    "data = data_loader.reidx_dat"
   ]
  },
  {
   "cell_type": "code",
   "execution_count": 3,
   "metadata": {},
   "outputs": [],
   "source": [
    "pat_c2i = data_loader.pat_c2i\n",
    "concept_emb_dict = {k:concept_emb_dict[k] for k in pat_c2i}"
   ]
  },
  {
   "cell_type": "code",
   "execution_count": 7,
   "metadata": {},
   "outputs": [],
   "source": [
    "chat_gpt_emb = []\n",
    "for k, v in concept_emb_dict.items():\n",
    "    chat_gpt_emb.append(v)\n",
    "   \n",
    "vocab_size = len(pat_c2i)+1\n",
    "embedding_dim = 1536\n",
    "hidden_size = 64\n",
    "output_dim = 5\n",
    "\n",
    "import torch\n",
    "import numpy as np\n",
    "chat_gpt_emb = torch.tensor(np.array(chat_gpt_emb))\n",
    "padding_embedding = torch.zeros(1, embedding_dim)\n",
    "final_embeddings = torch.cat((padding_embedding, chat_gpt_emb), dim=0)"
   ]
  },
  {
   "cell_type": "code",
   "execution_count": 8,
   "metadata": {},
   "outputs": [
    {
     "name": "stdout",
     "output_type": "stream",
     "text": [
      "create datasets\n",
      "create trainloaders\n"
     ]
    }
   ],
   "source": [
    "from training import Training\n",
    "import torch\n",
    "torch.cuda.set_device(0)\n",
    "device = torch.device('cuda')\n",
    "training = Training(data, embedding_dim=embedding_dim, output_dim = output_dim, final_embeddings= final_embeddings, vocab_size = vocab_size, device = device)"
   ]
  },
  {
   "cell_type": "code",
   "execution_count": 9,
   "metadata": {},
   "outputs": [
    {
     "name": "stdout",
     "output_type": "stream",
     "text": [
      "Epoch [1/500], Train Loss: 0.1039603325030887\n",
      "Epoch [1/500], Val Loss: 0.026425140510982277\n",
      "Epoch [2/500], Train Loss: 0.026903419188162876\n",
      "Epoch [2/500], Val Loss: 0.025724873666842007\n",
      "Epoch [3/500], Train Loss: 0.025440720096236807\n",
      "Epoch [3/500], Val Loss: 0.025833879827812153\n",
      "Epoch [4/500], Train Loss: 0.025005173462107295\n",
      "Epoch [4/500], Val Loss: 0.024992659879765886\n",
      "Epoch [5/500], Train Loss: 0.023095520294974043\n",
      "Epoch [5/500], Val Loss: 0.021096962286515752\n",
      "Epoch [6/500], Train Loss: 0.019681155383033583\n",
      "Epoch [6/500], Val Loss: 0.018927341439264715\n",
      "Epoch [7/500], Train Loss: 0.018332792929896247\n",
      "Epoch [7/500], Val Loss: 0.01837126750886447\n",
      "Epoch [8/500], Train Loss: 0.017827989053026298\n",
      "Epoch [8/500], Val Loss: 0.018108508224274737\n",
      "Epoch [9/500], Train Loss: 0.01754766652997737\n",
      "Epoch [9/500], Val Loss: 0.017917583310282197\n",
      "Epoch [10/500], Train Loss: 0.017328905163368657\n",
      "Epoch [10/500], Val Loss: 0.017748138277831733\n",
      "Epoch [11/500], Train Loss: 0.017136846444233644\n",
      "Epoch [11/500], Val Loss: 0.017681333368700945\n",
      "Epoch [12/500], Train Loss: 0.017016978551414444\n",
      "Epoch [12/500], Val Loss: 0.01754229979816354\n",
      "Epoch [13/500], Train Loss: 0.016874323368906305\n",
      "Epoch [13/500], Val Loss: 0.017431797020253135\n",
      "Epoch [14/500], Train Loss: 0.016764994500997287\n",
      "Epoch [14/500], Val Loss: 0.01733642146188008\n",
      "Epoch [15/500], Train Loss: 0.01665719463812499\n",
      "Epoch [15/500], Val Loss: 0.01725754130719286\n",
      "Epoch [16/500], Train Loss: 0.016573350045424814\n",
      "Epoch [16/500], Val Loss: 0.01728999887982476\n",
      "Epoch [17/500], Train Loss: 0.016501310271531833\n",
      "Epoch [17/500], Val Loss: 0.01729182876165718\n",
      "Epoch [18/500], Train Loss: 0.016427635772332777\n",
      "Epoch [18/500], Val Loss: 0.017191974035496986\n",
      "Epoch [19/500], Train Loss: 0.016361030802752054\n",
      "Epoch [19/500], Val Loss: 0.017160621449578473\n",
      "Epoch [20/500], Train Loss: 0.016264613309297644\n",
      "Epoch [20/500], Val Loss: 0.01704825687373317\n",
      "Epoch [21/500], Train Loss: 0.0162266216278786\n",
      "Epoch [21/500], Val Loss: 0.016979173647501993\n",
      "Epoch [22/500], Train Loss: 0.01614542495977869\n",
      "Epoch [22/500], Val Loss: 0.016978806379581438\n",
      "Epoch [23/500], Train Loss: 0.016103654304946664\n",
      "Epoch [23/500], Val Loss: 0.016824447281411622\n",
      "Epoch [24/500], Train Loss: 0.016021468793162064\n",
      "Epoch [24/500], Val Loss: 0.01673953469101608\n",
      "Epoch [25/500], Train Loss: 0.01596608093143961\n",
      "Epoch [25/500], Val Loss: 0.016717511522800245\n",
      "Epoch [26/500], Train Loss: 0.01592631025954425\n",
      "Epoch [26/500], Val Loss: 0.016653416596294386\n",
      "Epoch [27/500], Train Loss: 0.015861862922494366\n",
      "Epoch [27/500], Val Loss: 0.01662625499669552\n",
      "Epoch [28/500], Train Loss: 0.01578104941368744\n",
      "Epoch [28/500], Val Loss: 0.016575997667312374\n",
      "Epoch [29/500], Train Loss: 0.015731145182655858\n",
      "Epoch [29/500], Val Loss: 0.016537734291583416\n",
      "Epoch [30/500], Train Loss: 0.01569342405974253\n",
      "Epoch [30/500], Val Loss: 0.016530792258751925\n",
      "Epoch [31/500], Train Loss: 0.015613815174107716\n",
      "Epoch [31/500], Val Loss: 0.016482376301811513\n",
      "Epoch [32/500], Train Loss: 0.015599647499859776\n",
      "Epoch [32/500], Val Loss: 0.01651420528844591\n",
      "Epoch [33/500], Train Loss: 0.015535288227107749\n",
      "Epoch [33/500], Val Loss: 0.016604379151109957\n",
      "Epoch [34/500], Train Loss: 0.015516279165100995\n",
      "Epoch [34/500], Val Loss: 0.016563870746644335\n",
      "Epoch [35/500], Train Loss: 0.015442785099264559\n",
      "Epoch [35/500], Val Loss: 0.016475110571876176\n",
      "Epoch [36/500], Train Loss: 0.015392069601720383\n",
      "Epoch [36/500], Val Loss: 0.016458959933538752\n",
      "Epoch [37/500], Train Loss: 0.015347952938599516\n",
      "Epoch [37/500], Val Loss: 0.01647728802028445\n",
      "Epoch [38/500], Train Loss: 0.015301855001122685\n",
      "Epoch [38/500], Val Loss: 0.016528771293100472\n",
      "Epoch [39/500], Train Loss: 0.015284009297850999\n",
      "Epoch [39/500], Val Loss: 0.016517773063183895\n",
      "Epoch [40/500], Train Loss: 0.015241056557469759\n",
      "Epoch [40/500], Val Loss: 0.016480566665615315\n",
      "Epoch [41/500], Train Loss: 0.015244443613578577\n",
      "Epoch [41/500], Val Loss: 0.016532749620988843\n",
      "Epoch [42/500], Train Loss: 0.015187084807702743\n",
      "Epoch [42/500], Val Loss: 0.016523581310855098\n",
      "Epoch [43/500], Train Loss: 0.015122713278158006\n",
      "Epoch [43/500], Val Loss: 0.016448688704517593\n",
      "Epoch [44/500], Train Loss: 0.01507289038869334\n",
      "Epoch [44/500], Val Loss: 0.016426705720438448\n",
      "Epoch [45/500], Train Loss: 0.015066075949753965\n",
      "Epoch [45/500], Val Loss: 0.01642650868007235\n",
      "Epoch [46/500], Train Loss: 0.01502496038165563\n",
      "Epoch [46/500], Val Loss: 0.016410117706750663\n",
      "Epoch [47/500], Train Loss: 0.015009372834407562\n",
      "Epoch [47/500], Val Loss: 0.01639864286989964\n",
      "Epoch [48/500], Train Loss: 0.014954556714808847\n",
      "Epoch [48/500], Val Loss: 0.016434094083790398\n",
      "Epoch [49/500], Train Loss: 0.014952358429639415\n",
      "Epoch [49/500], Val Loss: 0.016391603471316376\n",
      "Epoch [50/500], Train Loss: 0.014916794786953383\n",
      "Epoch [50/500], Val Loss: 0.01637315729851834\n",
      "Epoch [51/500], Train Loss: 0.014852792054379543\n",
      "Epoch [51/500], Val Loss: 0.016440497862153344\n",
      "Epoch [52/500], Train Loss: 0.014818113340022638\n",
      "Epoch [52/500], Val Loss: 0.016409014923289944\n",
      "Epoch [53/500], Train Loss: 0.014795716502046346\n",
      "Epoch [53/500], Val Loss: 0.016381979451750576\n",
      "Epoch [54/500], Train Loss: 0.01474735272843238\n",
      "Epoch [54/500], Val Loss: 0.016513524538433487\n",
      "Epoch [55/500], Train Loss: 0.01471993299511556\n",
      "Epoch [55/500], Val Loss: 0.01645342143266533\n",
      "Epoch [56/500], Train Loss: 0.0147018026945071\n",
      "Epoch [56/500], Val Loss: 0.016437251606945695\n",
      "Epoch [57/500], Train Loss: 0.014649698170973348\n",
      "Epoch [57/500], Val Loss: 0.016469240081639545\n",
      "Epoch [58/500], Train Loss: 0.01462885452107313\n",
      "Epoch [58/500], Val Loss: 0.016483355776751855\n",
      "Epoch [59/500], Train Loss: 0.014606213934376647\n",
      "Epoch [59/500], Val Loss: 0.0164908131494899\n",
      "Epoch [60/500], Train Loss: 0.014614478237158023\n",
      "Epoch [60/500], Val Loss: 0.016464561576350317\n",
      "Stopping training due to lack of improvement in validation loss.\n"
     ]
    }
   ],
   "source": [
    "best_model, train_loss, val_loss = training.training(lr = 0.0000001)"
   ]
  },
  {
   "cell_type": "code",
   "execution_count": 10,
   "metadata": {},
   "outputs": [
    {
     "data": {
      "text/plain": [
       "[<matplotlib.lines.Line2D at 0x1ddb4331790>]"
      ]
     },
     "execution_count": 10,
     "metadata": {},
     "output_type": "execute_result"
    },
    {
     "data": {
      "image/png": "[encoded data removed]",
      "text/plain": [
       "<Figure size 640x480 with 1 Axes>"
      ]
     },
     "metadata": {},
     "output_type": "display_data"
    }
   ],
   "source": [
    "import matplotlib.pyplot as plt\n",
    "plt.plot(train_loss)\n",
    "plt.plot(val_loss)"
   ]
  },
  {
   "cell_type": "code",
   "execution_count": 11,
   "metadata": {},
   "outputs": [],
   "source": [
    "import pickle\n",
    "\n",
    "torch.save(best_model, 'model/tf_gpt1536_dx.pt')\n",
    "with open('model/train_losses_tf_gpt1536_dx.pickle', 'wb') as handle:\n",
    "    pickle.dump(train_loss, handle, protocol=pickle.HIGHEST_PROTOCOL)\n",
    "with open('model/val_losses_tf_gpt1536_dx.pickle', 'wb') as handle:\n",
    "    pickle.dump(val_loss, handle, protocol=pickle.HIGHEST_PROTOCOL)"
   ]
  },
  {
   "cell_type": "code",
   "execution_count": 12,
   "metadata": {},
   "outputs": [],
   "source": [
    "model = training.model\n",
    "\n",
    "test_data = training.data_splits.test_data\n",
    "_, _, test_ids = training.data_splits.split_ids()\n",
    "\n",
    "from evaluate_performance import Evaluate\n",
    "ev = Evaluate(test_data, test_ids, model, 'model/tf_gpt1536_dx.pt')"
   ]
  },
  {
   "cell_type": "code",
   "execution_count": 1,
   "metadata": {},
   "outputs": [],
   "source": [
    "ev.sens_spec(specAt = 0.999)"
   ]
  },
  {
   "cell_type": "code",
   "execution_count": 11,
   "metadata": {},
   "outputs": [],
   "source": [
    "rs = ev.raw_scores()"
   ]
  },
  {
   "cell_type": "code",
   "execution_count": 12,
   "metadata": {},
   "outputs": [],
   "source": [
    "import pickle\n",
    "with open('output/rs_tf_gpt1536_dx.pickle', 'wb') as handle:\n",
    "    pickle.dump(rs, handle)"
   ]
  }
 ],
 "metadata": {
  "kernelspec": {
   "display_name": "py39",
   "language": "python",
   "name": "python3"
  },
  "language_info": {
   "codemirror_mode": {
    "name": "ipython",
    "version": 3
   },
   "file_extension": ".py",
   "mimetype": "text/x-python",
   "name": "python",
   "nbconvert_exporter": "python",
   "pygments_lexer": "ipython3",
   "version": "3.9.18"
  }
 },
 "nbformat": 4,
 "nbformat_minor": 2
}
