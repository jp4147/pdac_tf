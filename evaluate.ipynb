{
 "cells": [
  {
   "cell_type": "code",
   "execution_count": 1,
   "metadata": {},
   "outputs": [],
   "source": [
    "from evaluate_performance import Evaluate\n",
    "\n",
    "sens_base32, spec_base32 = Evaluate.sens_spec_range(file_name = 'rs_tf_dx')\n",
    "sens_base1536, spec_base1536 = Evaluate.sens_spec_range(file_name = 'rs_tf1536_dx')\n",
    "sens_gpt1536, spec_gpt1536 = Evaluate.sens_spec_range(file_name = 'rs_tf_gpt1536_dx')\n"
   ]
  },
  {
   "cell_type": "code",
   "execution_count": 2,
   "metadata": {},
   "outputs": [],
   "source": [
    "import matplotlib.pyplot as plt\n",
    "import numpy as np\n",
    "def plot_sen_spec(test, color, month = '3m', smoothing = False):\n",
    "    \n",
    "    spec, sens = [], []\n",
    "    for k, v in test.items():\n",
    "        spec.append(k)\n",
    "        sens.append(v[month])\n",
    "    plt.plot(spec, sens, '.', color = color[0])\n",
    "    if smoothing:\n",
    "        # Fit a polynomial of degree 3 to the data\n",
    "        coefficients = np.polyfit(spec, sens, 2)\n",
    "        polynomial = np.poly1d(coefficients)\n",
    "\n",
    "        # Generate x values for plotting the polynomial\n",
    "        x_smooth = np.linspace(spec.min(), spec.max(), 500)\n",
    "        y_smooth = polynomial(x_smooth)\n",
    "        plt.plot(x_smooth, y_smooth, color=color[1])   \n",
    "\n",
    "plot_sen_spec(sens_base32, ['gray',''], month = '3m')\n",
    "plot_sen_spec(sens_base1536, ['k',''], month = '3m')\n",
    "plot_sen_spec(sens_gpt1536, ['r',''], month = '3m')\n",
    "plt.xlabel('Specificity', fontsize = 15)\n",
    "plt.ylabel('Sensitivity', fontsize = 15)    \n",
    "plt.legend(labels = ['$Baseline_{\\t{fine\\_tune32}}$', \n",
    "                     '$Baseline_{\\t{fine\\_tune1536}}$',\n",
    "                     '$GPT4_{\\t{fine\\_tune1536}}$',],)\n",
    "plt.show()"
   ]
  },
  {
   "cell_type": "markdown",
   "metadata": {},
   "source": [
    "### AUC three decimals"
   ]
  },
  {
   "cell_type": "code",
   "execution_count": null,
   "metadata": {},
   "outputs": [],
   "source": [
    "import pickle\n",
    "with open('output/rs_tf_dx.pickle', 'rb') as handle:\n",
    "    base32 = pickle.load(handle)\n",
    "    \n",
    "with open('output/rs_tf1536_dx.pickle', 'rb') as handle:\n",
    "    base1536 = pickle.load(handle)\n",
    "with open('output/rs_tf_gpt1536_dx.pickle', 'rb') as handle:\n",
    "    gpt1536 = pickle.load(handle)"
   ]
  },
  {
   "cell_type": "code",
   "execution_count": null,
   "metadata": {},
   "outputs": [],
   "source": [
    "from sklearn.metrics import roc_curve, auc\n",
    "from sklearn.metrics import precision_recall_curve\n",
    "def roc_pr(res, plot = 'yes'):\n",
    "    label2month = {5:'3m', 4:'6m', 3:'12m', 2:'36m', 1:'60m'}\n",
    "    roc_collect = {}\n",
    "    tpr_collect, fpr_collect = {}, {}\n",
    "    \n",
    "    for k,v in res.items():\n",
    "        roc_collect[k] = {}\n",
    "        tpr_collect[k], fpr_collect[k] = {}, {}\n",
    "        for la_sum, m in label2month.items():\n",
    "            fpr, tpr, roc_thre = roc_curve(np.array(v[m]['labels'])[:,5-la_sum], np.array(v[m]['raw_scores'])[:,5-la_sum])\n",
    "\n",
    "            roc_auc = auc(fpr, tpr)\n",
    "            roc_label=k+': {:.3f}'.format(roc_auc)\n",
    "            roc_collect[k][m] = roc_label\n",
    "            tpr_collect[k][m] = tpr\n",
    "            fpr_collect[k][m] = fpr"
   ]
  },
  {
   "cell_type": "code",
   "execution_count": null,
   "metadata": {},
   "outputs": [],
   "source": [
    "res = {'$Baseline_{\\t{fine\\_tune32}}$':base32,\n",
    "       '$Baseline_{\\t{fine\\_tune1536}}$':base1536,\n",
    "       '$GPT_{\\t{fine\\_tune1536}}$':gpt1536}"
   ]
  },
  {
   "cell_type": "code",
   "execution_count": null,
   "metadata": {},
   "outputs": [],
   "source": [
    "roc = roc_pr(res)\n",
    "roc"
   ]
  },
  {
   "cell_type": "markdown",
   "metadata": {},
   "source": [
    "### Baseline vs GPT"
   ]
  },
  {
   "cell_type": "code",
   "execution_count": null,
   "metadata": {},
   "outputs": [],
   "source": [
    "diff = {}\n",
    "for m in ['3m', '6m', '12m', '36m', '60m']:\n",
    "    diff[m] = {}\n",
    "for spec, m_sens in sens_gpt1536.items():\n",
    "    for m in ['3m', '6m', '12m', '36m', '60m']:\n",
    "        diff[m][spec] = (m_sens[m]/sens_base1536[spec][m]-1)*100"
   ]
  },
  {
   "cell_type": "code",
   "execution_count": null,
   "metadata": {},
   "outputs": [],
   "source": [
    "for m in ['3m', '6m', '12m', '36m', '60m']:\n",
    "    print(m, np.mean(list(diff[m].values())[-10:]))"
   ]
  },
  {
   "cell_type": "code",
   "execution_count": null,
   "metadata": {},
   "outputs": [],
   "source": [
    "import numpy as np\n",
    "import scipy.stats as stats\n",
    "\n",
    "# Sample list of values\n",
    "data = list(diff['3m'].values())[-10:]\n",
    "\n",
    "# Step 1: Calculate the mean\n",
    "mean = np.mean(data)\n",
    "\n",
    "# Step 2: Calculate the standard deviation\n",
    "std_dev = np.std(data, ddof=1)  # Using Bessel's correction (ddof=1)\n",
    "\n",
    "# Step 3: Calculate the standard error of the mean (SEM)\n",
    "n = len(data)\n",
    "sem = std_dev / np.sqrt(n)\n",
    "\n",
    "# Step 4: Find the critical value (t*) for a 95% confidence interval\n",
    "confidence_level = 0.95\n",
    "degrees_of_freedom = n - 1\n",
    "t_critical = stats.t.ppf((1 + confidence_level) / 2, degrees_of_freedom)\n",
    "\n",
    "# Step 5: Calculate the margin of error\n",
    "margin_of_error = t_critical * sem\n",
    "\n",
    "# Step 6: Construct the confidence interval\n",
    "confidence_interval = (mean - margin_of_error, mean + margin_of_error)\n",
    "\n",
    "print(\"95% Confidence Interval:\", confidence_interval)"
   ]
  }
 ],
 "metadata": {
  "kernelspec": {
   "display_name": "py39new",
   "language": "python",
   "name": "python3"
  },
  "language_info": {
   "codemirror_mode": {
    "name": "ipython",
    "version": 3
   },
   "file_extension": ".py",
   "mimetype": "text/x-python",
   "name": "python",
   "nbconvert_exporter": "python",
   "pygments_lexer": "ipython3",
   "version": "3.9.19"
  }
 },
 "nbformat": 4,
 "nbformat_minor": 2
}
