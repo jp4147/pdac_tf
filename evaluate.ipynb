{
 "cells": [
  {
   "cell_type": "code",
   "execution_count": 1,
   "metadata": {},
   "outputs": [],
   "source": [
    "from evaluate_performance import Evaluate\n",
    "\n",
    "sens_base32, spec_base32 = Evaluate.sens_spec_range(file_name = 'rs_tf_dx')\n",
    "sens_base1536, spec_base1536 = Evaluate.sens_spec_range(file_name = 'rs_tf1536_dx')\n",
    "sens_gpt1536, spec_gpt1536 = Evaluate.sens_spec_range(file_name = 'rs_tf_gpt1536_dx')\n"
   ]
  },
  {
   "cell_type": "code",
   "execution_count": 2,
   "metadata": {},
   "outputs": [],
   "source": [
    "import matplotlib.pyplot as plt\n",
    "import numpy as np\n",
    "def plot_sen_spec(test, color, month = '3m', smoothing = False):\n",
    "    \n",
    "    spec, sens = [], []\n",
    "    for k, v in test.items():\n",
    "        spec.append(k)\n",
    "        sens.append(v[month])\n",
    "    plt.plot(spec, sens, '.', color = color[0])\n",
    "    if smoothing:\n",
    "        # Fit a polynomial of degree 3 to the data\n",
    "        coefficients = np.polyfit(spec, sens, 2)\n",
    "        polynomial = np.poly1d(coefficients)\n",
    "\n",
    "        # Generate x values for plotting the polynomial\n",
    "        x_smooth = np.linspace(spec.min(), spec.max(), 500)\n",
    "        y_smooth = polynomial(x_smooth)\n",
    "        plt.plot(x_smooth, y_smooth, color=color[1])   \n",
    "\n",
    "plot_sen_spec(sens_base32, ['gray',''], month = '3m')\n",
    "plot_sen_spec(sens_base1536, ['k',''], month = '3m')\n",
    "plot_sen_spec(sens_gpt1536, ['r',''], month = '3m')\n",
    "plt.xlabel('Specificity', fontsize = 15)\n",
    "plt.ylabel('Sensitivity', fontsize = 15)    \n",
    "plt.legend(labels = ['$Baseline_{\\t{fine\\_tune32}}$', \n",
    "                     '$Baseline_{\\t{fine\\_tune1536}}$',\n",
    "                     '$GPT4_{\\t{fine\\_tune1536}}$',],)\n",
    "plt.show()"
   ]
  }
 ],
 "metadata": {
  "kernelspec": {
   "display_name": "py39new",
   "language": "python",
   "name": "python3"
  },
  "language_info": {
   "codemirror_mode": {
    "name": "ipython",
    "version": 3
   },
   "file_extension": ".py",
   "mimetype": "text/x-python",
   "name": "python",
   "nbconvert_exporter": "python",
   "pygments_lexer": "ipython3",
   "version": "3.9.19"
  }
 },
 "nbformat": 4,
 "nbformat_minor": 2
}
